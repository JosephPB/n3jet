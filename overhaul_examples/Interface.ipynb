{
 "cells": [
  {
   "cell_type": "code",
   "execution_count": 1,
   "metadata": {},
   "outputs": [],
   "source": [
    "import pickle as pkl\n",
    "\n",
    "with open('./global_dict.pkl', 'rb') as f:\n",
    "    global_dict = pkl.load(f)"
   ]
  },
  {
   "cell_type": "markdown",
   "metadata": {},
   "source": [
    "**Note:** Using things from the njet_run_function files can mean that we are dependent on the global file variable at the top of the document"
   ]
  },
  {
   "cell_type": "code",
   "execution_count": 2,
   "metadata": {},
   "outputs": [],
   "source": [
    "import os\n",
    "import sys\n",
    "sys.path.append(global_dict['NJET_BLHA'])\n",
    "sys.path.append(global_dict['N3JET_BASE'] + '/phase/')\n",
    "sys.path.append(global_dict['N3JET_BASE'] + '/utils/')\n",
    "\n",
    "import numpy as np\n",
    "from utils import *\n",
    "from rambo_while import generate as rw_generate\n",
    "from njet_run_functions import *"
   ]
  },
  {
   "cell_type": "code",
   "execution_count": 3,
   "metadata": {},
   "outputs": [],
   "source": [
    "contract_file = 'OLE_contract_diphoton.lh'\n",
    "mom_data_dir = './'\n",
    "mom_file = 'ex_diphoton_mom'\n",
    "\n",
    "njet_data_dir = './'\n",
    "njet_file = 'ex_diphoton_njet'"
   ]
  },
  {
   "cell_type": "code",
   "execution_count": 4,
   "metadata": {},
   "outputs": [],
   "source": [
    "generate_mom = True\n",
    "generate_njet = True"
   ]
  },
  {
   "cell_type": "code",
   "execution_count": 5,
   "metadata": {},
   "outputs": [
    {
     "name": "stderr",
     "output_type": "stream",
     "text": [
      "100%|██████████| 100/100 [00:00<00:00, 2481.95it/s]\n"
     ]
    }
   ],
   "source": [
    "momenta = rw_generate(2, 100, w=1000., delta=0.01)"
   ]
  },
  {
   "cell_type": "code",
   "execution_count": 6,
   "metadata": {},
   "outputs": [
    {
     "name": "stdout",
     "output_type": "stream",
     "text": [
      "  NJet: simple example of the BLHA interface\n"
     ]
    }
   ],
   "source": [
    "print ( \"  NJet: simple example of the BLHA interface\")"
   ]
  },
  {
   "cell_type": "code",
   "execution_count": 9,
   "metadata": {},
   "outputs": [],
   "source": [
    "legs = len(momenta[0])\n",
    "pspoints = len(momenta)"
   ]
  },
  {
   "cell_type": "code",
   "execution_count": 10,
   "metadata": {},
   "outputs": [],
   "source": [
    "olp = njet.OLP()"
   ]
  },
  {
   "cell_type": "code",
   "execution_count": 11,
   "metadata": {},
   "outputs": [],
   "source": [
    "status = njet_init(contract_file)"
   ]
  },
  {
   "cell_type": "code",
   "execution_count": 12,
   "metadata": {},
   "outputs": [
    {
     "name": "stdout",
     "output_type": "stream",
     "text": [
      "OLP read in correctly\n"
     ]
    }
   ],
   "source": [
    "if status == True:\n",
    "    print (\"OLP read in correctly\")\n",
    "else:\n",
    "    print (\"seems to be a problem with the contract file...\")"
   ]
  },
  {
   "cell_type": "code",
   "execution_count": 13,
   "metadata": {},
   "outputs": [],
   "source": [
    "momenta = momenta.tolist()"
   ]
  },
  {
   "cell_type": "code",
   "execution_count": 14,
   "metadata": {},
   "outputs": [],
   "source": [
    "test = momenta[0]"
   ]
  },
  {
   "cell_type": "code",
   "execution_count": 15,
   "metadata": {},
   "outputs": [],
   "source": [
    "test =  [[5.0000000000000000E+00,0.0000000000000000E+00,0.0000000000000000E+00,5.0000000000000000E+00],\n",
    "        [5.0000000000000000E+00,0.0000000000000000E+00,0.0000000000000000E+00,-5.0000000000000000E+00],\n",
    "        [1.1752772962487221E+00,4.2190326218557050E-01,-7.9632631758439487E-03,-1.0969097259457921E+00],\n",
    "        [3.8897413519622193E+00,7.2863133605774177E-02,-2.4238266256582408E+00,-3.0413554934726399E+00],\n",
    "        [1.4151041459885225E+00,-5.7523953762081992E-01,5.2094215883579842E-01,1.1833167308456300E+00],\n",
    "        [3.5198772058005368E+00,8.0473141829475237E-02,1.9108477299982864E+00,2.9549484885728017E+00]]"
   ]
  },
  {
   "cell_type": "code",
   "execution_count": 16,
   "metadata": {},
   "outputs": [
    {
     "data": {
      "text/plain": [
       "[[5.0, 0.0, 0.0, 5.0],\n",
       " [5.0, 0.0, 0.0, -5.0],\n",
       " [1.1752772962487221,\n",
       "  0.4219032621855705,\n",
       "  -0.007963263175843949,\n",
       "  -1.096909725945792],\n",
       " [3.8897413519622193,\n",
       "  0.07286313360577418,\n",
       "  -2.423826625658241,\n",
       "  -3.04135549347264],\n",
       " [1.4151041459885225,\n",
       "  -0.5752395376208199,\n",
       "  0.5209421588357984,\n",
       "  1.18331673084563],\n",
       " [3.5198772058005368,\n",
       "  0.08047314182947524,\n",
       "  1.9108477299982864,\n",
       "  2.9549484885728017]]"
      ]
     },
     "execution_count": 16,
     "metadata": {},
     "output_type": "execute_result"
    }
   ],
   "source": [
    "test"
   ]
  },
  {
   "cell_type": "code",
   "execution_count": 17,
   "metadata": {},
   "outputs": [
    {
     "data": {
      "text/plain": [
       "1.1752772962487221"
      ]
     },
     "execution_count": 17,
     "metadata": {},
     "output_type": "execute_result"
    }
   ],
   "source": [
    "test[2][0]"
   ]
  },
  {
   "cell_type": "code",
   "execution_count": 18,
   "metadata": {},
   "outputs": [],
   "source": [
    "mur = 91.188\n",
    "alphas = 0.118\n",
    "alpha = 1./137.035999084"
   ]
  },
  {
   "cell_type": "code",
   "execution_count": 19,
   "metadata": {},
   "outputs": [],
   "source": [
    "rval = olp.OLP_EvalSubProcess(1, test, alphas=alphas,alpha=alpha,mur=mur)"
   ]
  },
  {
   "cell_type": "code",
   "execution_count": 20,
   "metadata": {},
   "outputs": [
    {
     "data": {
      "text/plain": [
       "[0.0, 0.0, 0.0, 1.0, 0.0, 0.0, 0.0, 0.0, 0.0, 0.0, 0.0]"
      ]
     },
     "execution_count": 20,
     "metadata": {},
     "output_type": "execute_result"
    }
   ],
   "source": [
    "olp.OLP_EvalSubProcess(1, test, alphas=alphas,alpha=alpha,mur=mur,retlen=11)"
   ]
  },
  {
   "cell_type": "code",
   "execution_count": 21,
   "metadata": {},
   "outputs": [
    {
     "name": "stdout",
     "output_type": "stream",
     "text": [
      "1.0000000000000000000000000000000000000000000000000000000000000000000000000000000000000000000000000000\n"
     ]
    }
   ],
   "source": [
    "print ('%.100f'%rval[3]) "
   ]
  }
 ],
 "metadata": {
  "kernelspec": {
   "display_name": "keras-RAMBO",
   "language": "python",
   "name": "keras-rambo"
  },
  "language_info": {
   "codemirror_mode": {
    "name": "ipython",
    "version": 2
   },
   "file_extension": ".py",
   "mimetype": "text/x-python",
   "name": "python",
   "nbconvert_exporter": "python",
   "pygments_lexer": "ipython2",
   "version": "2.7.5"
  }
 },
 "nbformat": 4,
 "nbformat_minor": 2
}
